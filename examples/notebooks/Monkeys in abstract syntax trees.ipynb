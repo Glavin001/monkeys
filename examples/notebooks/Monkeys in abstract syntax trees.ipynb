{
 "cells": [
  {
   "cell_type": "markdown",
   "metadata": {},
   "source": [
    "# Monkeys in abstract syntax trees\n",
    "\n",
    "**Note:** This tutorial assumes a working knowledge of Python abstract syntax trees; if you are not familiar with Python ASTs, [Green Tree Snakes](https://greentreesnakes.readthedocs.io/en/latest/) serves as an excellent introduction, and the [Python AST explorer](https://python-ast-explorer.com/) allows you to view ASTs for arbitrary Python code interactively. This tutorial also assumes you have already read [Getting started with monkeys](Getting%20started%20with%20monkeys.ipynb).\n",
    "\n",
    "In this notebook, we'll use `monkeys` to generate Python code directly. In order to do so, rather than specifying functions to manipulate values directly, we'll be using functions which take and return AST nodes, and in this way build up an executable program.\n",
    "\n",
    "Let's try to evolve the built-in function `abs`. We'll first want to introduce some numerical constants. However, rather than doing e.g. `constant(int, 0)`, we'll want to have AST-node representations, a la:"
   ]
  },
  {
   "cell_type": "code",
   "execution_count": 1,
   "metadata": {
    "collapsed": true
   },
   "outputs": [],
   "source": [
    "from monkeys.typing import constant\n",
    "import ast\n",
    "\n",
    "zero = constant(ast.Num, ast.Num(n=0))\n",
    "one = constant(ast.Num, ast.Num(n=1))"
   ]
  },
  {
   "cell_type": "markdown",
   "metadata": {},
   "source": [
    "We also want to have an input - however, rather than using `make_input`, we'll accomplish this by referencing a named parameter in the function we're building. We'll call this `x`. While `x` is an `ast.Name` node, we know it will always be numeric - so we can provide a no-op means of converting it to an `ast.Num`."
   ]
  },
  {
   "cell_type": "code",
   "execution_count": 2,
   "metadata": {
    "collapsed": true
   },
   "outputs": [],
   "source": [
    "from monkeys.typing import params, rtype\n",
    "\n",
    "x = constant(ast.Name, ast.Name(id='x', ctx=ast.Load()))\n",
    "\n",
    "@params(ast.Name)\n",
    "@rtype(ast.Num)\n",
    "def name_as_num(name_node):\n",
    "    return name_node"
   ]
  },
  {
   "cell_type": "markdown",
   "metadata": {},
   "source": [
    "We know that we also want to have a means of negating numbers. One way of accomplishing this is the following:"
   ]
  },
  {
   "cell_type": "code",
   "execution_count": 3,
   "metadata": {
    "collapsed": true
   },
   "outputs": [],
   "source": [
    "from monkeys.typing import params, rtype\n",
    "\n",
    "@params(ast.Num)\n",
    "@rtype(ast.Num)\n",
    "def negate(num_node):\n",
    "    return ast.Expr(\n",
    "        value=ast.UnaryOp(\n",
    "            op=ast.USub(),\n",
    "            operand=num_node\n",
    "        )\n",
    "    )"
   ]
  },
  {
   "cell_type": "markdown",
   "metadata": {},
   "source": [
    "However, that's a pretty verbose way of representing simple negation - and as we introduce more complex constructs, we'll quickly find ourselves overwhelmed by boilerplate. Thankfully, `monkeys` provides an easy means of creating \"quoted\" templates - functions  where the value returned is an AST representation of the function body with specified values replaced. For example, to create the equivalent of the `negate` function declared above, we can simply do:"
   ]
  },
  {
   "cell_type": "code",
   "execution_count": 4,
   "metadata": {
    "collapsed": false
   },
   "outputs": [],
   "source": [
    "from monkeys.asts import quoted_template\n",
    "\n",
    "@params(ast.Num)\n",
    "@rtype(ast.Num)\n",
    "@quoted_template\n",
    "def negate_v2(num):\n",
    "    -(num)"
   ]
  },
  {
   "cell_type": "markdown",
   "metadata": {},
   "source": [
    "We can see that both methods return nearly the same result - the primary difference being that `negate_v2` returns a list of nodes, whereas `negate` returns a single node:"
   ]
  },
  {
   "cell_type": "code",
   "execution_count": 5,
   "metadata": {
    "collapsed": false
   },
   "outputs": [
    {
     "data": {
      "text/plain": [
       "(\"Expr(value=UnaryOp(op=USub(), operand=Name(id='x', ctx=Load())))\",\n",
       " \"Expr(value=UnaryOp(op=USub(), operand=Name(id='x', ctx=Load())))\")"
      ]
     },
     "execution_count": 5,
     "metadata": {},
     "output_type": "execute_result"
    }
   ],
   "source": [
    "negated_x = negate(x)\n",
    "negated_v2_x, = negate_v2(x)\n",
    "ast.dump(negated_x), ast.dump(negated_v2_x)"
   ]
  },
  {
   "cell_type": "markdown",
   "metadata": {},
   "source": [
    "This isn't anything to worry about: `monkeys` is designed to handle both styles. Since it's superfluous, let's remove `negate`:"
   ]
  },
  {
   "cell_type": "code",
   "execution_count": 6,
   "metadata": {
    "collapsed": false
   },
   "outputs": [],
   "source": [
    "from monkeys.typing import deregister\n",
    "deregister(negate)"
   ]
  },
  {
   "cell_type": "markdown",
   "metadata": {},
   "source": [
    "Now, let's make a few more quoted templates:"
   ]
  },
  {
   "cell_type": "code",
   "execution_count": 7,
   "metadata": {
    "collapsed": false
   },
   "outputs": [],
   "source": [
    "@params(ast.Num, ast.Num)\n",
    "@rtype(ast.Num)\n",
    "@quoted_template\n",
    "def multiply(a, b):\n",
    "    a * b    \n",
    "    \n",
    "@params(ast.Num, ast.Num)\n",
    "@rtype(ast.Compare)\n",
    "@quoted_template\n",
    "def gte(a, b):\n",
    "    a >= b\n",
    "    \n",
    "@params(ast.Num, ast.Compare, ast.Num)\n",
    "@rtype(ast.Num)\n",
    "@quoted_template\n",
    "def if_else(true_num, cond, false_num):\n",
    "    true_num if cond else false_num\n",
    "\n",
    "@params(ast.Num)\n",
    "@rtype(ast.FunctionDef)\n",
    "@quoted_template\n",
    "def function_def(num):\n",
    "    def my_abs(x):\n",
    "        return int(num)"
   ]
  },
  {
   "cell_type": "markdown",
   "metadata": {},
   "source": [
    "We'll also need to add a final non-quoted function to convert our function definition to an executable module:"
   ]
  },
  {
   "cell_type": "code",
   "execution_count": 8,
   "metadata": {
    "collapsed": true
   },
   "outputs": [],
   "source": [
    "@params(ast.FunctionDef)\n",
    "@rtype(ast.Module)\n",
    "def module(fn):\n",
    "    return ast.Module(\n",
    "        body=fn if isinstance(fn, list) else [fn]\n",
    "    )"
   ]
  },
  {
   "cell_type": "markdown",
   "metadata": {},
   "source": [
    "Let's now visualize our types before proceeding:"
   ]
  },
  {
   "cell_type": "code",
   "execution_count": 9,
   "metadata": {
    "collapsed": false
   },
   "outputs": [
    {
     "data": {
      "image/svg+xml": [
       "<?xml version=\"1.0\" encoding=\"UTF-8\" standalone=\"no\"?>\n",
       "<!DOCTYPE svg PUBLIC \"-//W3C//DTD SVG 1.1//EN\"\n",
       " \"http://www.w3.org/Graphics/SVG/1.1/DTD/svg11.dtd\">\n",
       "<!-- Generated by graphviz version 2.38.0 (20140413.2041)\n",
       " -->\n",
       "<!-- Title: %3 Pages: 1 -->\n",
       "<svg width=\"333pt\" height=\"412pt\"\n",
       " viewBox=\"0.00 0.00 333.09 412.00\" xmlns=\"http://www.w3.org/2000/svg\" xmlns:xlink=\"http://www.w3.org/1999/xlink\">\n",
       "<g id=\"graph0\" class=\"graph\" transform=\"scale(1 1) rotate(0) translate(4 408)\">\n",
       "<title>%3</title>\n",
       "<polygon fill=\"white\" stroke=\"none\" points=\"-4,4 -4,-408 329.09,-408 329.09,4 -4,4\"/>\n",
       "<!-- ε -->\n",
       "<g id=\"node1\" class=\"node\"><title>ε</title>\n",
       "<ellipse fill=\"none\" stroke=\"black\" stroke-dasharray=\"1,5\" cx=\"159.434\" cy=\"-386\" rx=\"18\" ry=\"18\"/>\n",
       "<text text-anchor=\"middle\" x=\"159.434\" y=\"-381.8\" font-family=\"Times,serif\" font-size=\"14.00\">ε</text>\n",
       "</g>\n",
       "<!-- Num -->\n",
       "<g id=\"node3\" class=\"node\"><title>Num</title>\n",
       "<ellipse fill=\"none\" stroke=\"black\" cx=\"159.434\" cy=\"-242\" rx=\"30.1977\" ry=\"18\"/>\n",
       "<text text-anchor=\"middle\" x=\"159.434\" y=\"-237.8\" font-family=\"Times,serif\" font-size=\"14.00\">Num</text>\n",
       "</g>\n",
       "<!-- ε&#45;&gt;Num -->\n",
       "<g id=\"edge5\" class=\"edge\"><title>ε&#45;&gt;Num</title>\n",
       "<path fill=\"none\" stroke=\"black\" d=\"M154.689,-368.453C151.965,-358.08 148.818,-344.376 147.434,-332 145.656,-316.099 145.656,-311.901 147.434,-296 148.392,-287.43 150.196,-278.223 152.119,-269.926\"/>\n",
       "<polygon fill=\"black\" stroke=\"black\" points=\"155.566,-270.568 154.565,-260.021 148.77,-268.89 155.566,-270.568\"/>\n",
       "</g>\n",
       "<!-- Name -->\n",
       "<g id=\"node7\" class=\"node\"><title>Name</title>\n",
       "<ellipse fill=\"none\" stroke=\"black\" cx=\"190.434\" cy=\"-314\" rx=\"34.1871\" ry=\"18\"/>\n",
       "<text text-anchor=\"middle\" x=\"190.434\" y=\"-309.8\" font-family=\"Times,serif\" font-size=\"14.00\">Name</text>\n",
       "</g>\n",
       "<!-- ε&#45;&gt;Name -->\n",
       "<g id=\"edge12\" class=\"edge\"><title>ε&#45;&gt;Name</title>\n",
       "<path fill=\"none\" stroke=\"black\" d=\"M166.468,-369.116C170.128,-360.853 174.695,-350.54 178.858,-341.139\"/>\n",
       "<polygon fill=\"black\" stroke=\"black\" points=\"182.146,-342.358 182.995,-331.797 175.746,-339.524 182.146,-342.358\"/>\n",
       "</g>\n",
       "<!-- Num, Num -->\n",
       "<g id=\"node2\" class=\"node\"><title>Num, Num</title>\n",
       "<polygon fill=\"none\" stroke=\"black\" stroke-dasharray=\"5,2\" points=\"81.9284,-188 2.93964,-188 2.93964,-152 81.9284,-152 81.9284,-188\"/>\n",
       "<text text-anchor=\"middle\" x=\"42.434\" y=\"-165.8\" font-family=\"Times,serif\" font-size=\"14.00\">Num, Num</text>\n",
       "</g>\n",
       "<!-- Num, Num&#45;&gt;Num -->\n",
       "<g id=\"edge8\" class=\"edge\"><title>Num, Num&#45;&gt;Num</title>\n",
       "<path fill=\"none\" stroke=\"black\" d=\"M76.7662,-188.019C94.7824,-198.158 116.425,-211.061 133.114,-221.594\"/>\n",
       "<polygon fill=\"black\" stroke=\"black\" points=\"131.513,-224.725 141.822,-227.17 135.288,-218.83 131.513,-224.725\"/>\n",
       "</g>\n",
       "<!-- Compare -->\n",
       "<g id=\"node4\" class=\"node\"><title>Compare</title>\n",
       "<ellipse fill=\"none\" stroke=\"black\" cx=\"46.434\" cy=\"-94\" rx=\"46.3682\" ry=\"18\"/>\n",
       "<text text-anchor=\"middle\" x=\"46.434\" y=\"-89.8\" font-family=\"Times,serif\" font-size=\"14.00\">Compare</text>\n",
       "</g>\n",
       "<!-- Num, Num&#45;&gt;Compare -->\n",
       "<g id=\"edge2\" class=\"edge\"><title>Num, Num&#45;&gt;Compare</title>\n",
       "<path fill=\"none\" stroke=\"black\" d=\"M43.3618,-151.837C43.8363,-143.058 44.4252,-132.163 44.9601,-122.267\"/>\n",
       "<polygon fill=\"black\" stroke=\"black\" points=\"48.4664,-122.244 45.5113,-112.07 41.4766,-121.866 48.4664,-122.244\"/>\n",
       "</g>\n",
       "<!-- Num&#45;&gt;Num, Num -->\n",
       "<g id=\"edge1\" class=\"edge\"><title>Num&#45;&gt;Num, Num</title>\n",
       "<path fill=\"none\" stroke=\"black\" d=\"M136.373,-230.216C118.455,-220.505 93.6279,-205.915 73.9269,-193.648\"/>\n",
       "<polygon fill=\"black\" stroke=\"black\" points=\"75.6059,-190.569 65.2791,-188.201 71.8751,-196.492 75.6059,-190.569\"/>\n",
       "</g>\n",
       "<!-- Num&#45;&gt;Num -->\n",
       "<g id=\"edge7\" class=\"edge\"><title>Num&#45;&gt;Num</title>\n",
       "<path fill=\"none\" stroke=\"black\" d=\"M181.312,-254.547C194.875,-257.573 207.783,-253.391 207.783,-242 207.783,-233.546 200.673,-229.063 191.462,-228.55\"/>\n",
       "<polygon fill=\"black\" stroke=\"black\" points=\"190.963,-225.08 181.312,-229.453 191.583,-232.053 190.963,-225.08\"/>\n",
       "</g>\n",
       "<!-- FunctionDef -->\n",
       "<g id=\"node5\" class=\"node\"><title>FunctionDef</title>\n",
       "<ellipse fill=\"none\" stroke=\"black\" cx=\"159.434\" cy=\"-170\" rx=\"59.6916\" ry=\"18\"/>\n",
       "<text text-anchor=\"middle\" x=\"159.434\" y=\"-165.8\" font-family=\"Times,serif\" font-size=\"14.00\">FunctionDef</text>\n",
       "</g>\n",
       "<!-- Num&#45;&gt;FunctionDef -->\n",
       "<g id=\"edge4\" class=\"edge\"><title>Num&#45;&gt;FunctionDef</title>\n",
       "<path fill=\"none\" stroke=\"black\" d=\"M159.434,-223.697C159.434,-215.983 159.434,-206.712 159.434,-198.112\"/>\n",
       "<polygon fill=\"black\" stroke=\"black\" points=\"162.934,-198.104 159.434,-188.104 155.934,-198.104 162.934,-198.104\"/>\n",
       "</g>\n",
       "<!-- Num, Compare, Num -->\n",
       "<g id=\"node8\" class=\"node\"><title>Num, Compare, Num</title>\n",
       "<polygon fill=\"none\" stroke=\"black\" stroke-dasharray=\"5,2\" points=\"325.246,-36 187.622,-36 187.622,-0 325.246,-0 325.246,-36\"/>\n",
       "<text text-anchor=\"middle\" x=\"256.434\" y=\"-13.8\" font-family=\"Times,serif\" font-size=\"14.00\">Num, Compare, Num</text>\n",
       "</g>\n",
       "<!-- Num&#45;&gt;Num, Compare, Num -->\n",
       "<g id=\"edge9\" class=\"edge\"><title>Num&#45;&gt;Num, Compare, Num</title>\n",
       "<path fill=\"none\" stroke=\"black\" d=\"M177.651,-227.571C191.431,-218.453 209.261,-204.972 219.434,-188 246.039,-143.615 249.413,-81.4922 251.671,-46.2485\"/>\n",
       "<polygon fill=\"black\" stroke=\"black\" points=\"255.166,-46.4397 252.36,-36.2232 248.183,-45.9595 255.166,-46.4397\"/>\n",
       "</g>\n",
       "<!-- Compare&#45;&gt;Num, Compare, Num -->\n",
       "<g id=\"edge10\" class=\"edge\"><title>Compare&#45;&gt;Num, Compare, Num</title>\n",
       "<path fill=\"none\" stroke=\"black\" d=\"M79.5019,-81.2013C87.9539,-78.1935 97.0282,-74.9711 105.434,-72 136.013,-61.1915 170.103,-49.2197 198.142,-39.393\"/>\n",
       "<polygon fill=\"black\" stroke=\"black\" points=\"199.512,-42.6218 207.792,-36.0121 197.197,-36.0155 199.512,-42.6218\"/>\n",
       "</g>\n",
       "<!-- Module -->\n",
       "<g id=\"node6\" class=\"node\"><title>Module</title>\n",
       "<ellipse fill=\"none\" stroke=\"black\" cx=\"159.434\" cy=\"-94\" rx=\"41.1461\" ry=\"18\"/>\n",
       "<ellipse fill=\"none\" stroke=\"black\" cx=\"159.434\" cy=\"-94\" rx=\"45.1529\" ry=\"22\"/>\n",
       "<text text-anchor=\"middle\" x=\"159.434\" y=\"-89.8\" font-family=\"Times,serif\" font-size=\"14.00\">Module</text>\n",
       "</g>\n",
       "<!-- FunctionDef&#45;&gt;Module -->\n",
       "<g id=\"edge3\" class=\"edge\"><title>FunctionDef&#45;&gt;Module</title>\n",
       "<path fill=\"none\" stroke=\"black\" d=\"M159.434,-151.837C159.434,-144.165 159.434,-134.878 159.434,-126.053\"/>\n",
       "<polygon fill=\"black\" stroke=\"black\" points=\"162.934,-126.032 159.434,-116.032 155.934,-126.032 162.934,-126.032\"/>\n",
       "</g>\n",
       "<!-- Name&#45;&gt;Num -->\n",
       "<g id=\"edge6\" class=\"edge\"><title>Name&#45;&gt;Num</title>\n",
       "<path fill=\"none\" stroke=\"black\" d=\"M183.087,-296.411C179.511,-288.335 175.125,-278.431 171.105,-269.355\"/>\n",
       "<polygon fill=\"black\" stroke=\"black\" points=\"174.193,-267.682 166.943,-259.956 167.792,-270.517 174.193,-267.682\"/>\n",
       "</g>\n",
       "<!-- Num, Compare, Num&#45;&gt;Num -->\n",
       "<g id=\"edge11\" class=\"edge\"><title>Num, Compare, Num&#45;&gt;Num</title>\n",
       "<path fill=\"none\" stroke=\"black\" d=\"M262.767,-36.2232C267.863,-68.4493 266.792,-139.024 237.434,-188 227.436,-204.679 210.045,-217.985 194.08,-227.094\"/>\n",
       "<polygon fill=\"black\" stroke=\"black\" points=\"192.1,-224.182 184.912,-231.965 195.385,-230.364 192.1,-224.182\"/>\n",
       "</g>\n",
       "</g>\n",
       "</svg>\n"
      ],
      "text/plain": [
       "<graphviz.dot.Digraph at 0x7f84dc66b810>"
      ]
     },
     "execution_count": 9,
     "metadata": {},
     "output_type": "execute_result"
    }
   ],
   "source": [
    "from monkeys.display import type_graph\n",
    "type_graph()"
   ]
  },
  {
   "cell_type": "markdown",
   "metadata": {},
   "source": [
    "We can now define a scoring function and optimize. Because we didn't use any input nodes, we can use the `pre_evaluate` decorator to simplify our scoring function. We'll also use the `assertions_as_score` decorator, which assigns a score based on the number of `assert`-based tests in our function body which pass."
   ]
  },
  {
   "cell_type": "code",
   "execution_count": 10,
   "metadata": {
    "collapsed": false
   },
   "outputs": [
    {
     "name": "stdout",
     "output_type": "stream",
     "text": [
      "Creating initial population of 250.\n",
      "Optimizing...\n",
      "Iteration 1:\tBest: 3.00\tAverage: 1.00\n",
      "Iteration 2:\tBest: 4.00\tAverage: 2.00\n",
      "Iteration 3:\tBest: 4.00\tAverage: 3.00\n",
      "Iteration 4:\tBest: 4.00\tAverage: 3.00\n",
      "Iteration 5:\tBest: 4.00\tAverage: 3.00\n",
      "Iteration 6:\tBest: 4.00\tAverage: 3.00\n",
      "Iteration 7:\tBest: 4.00\tAverage: 3.00\n",
      "Iteration 8:\tBest: 4.00\tAverage: 3.00\n",
      "Iteration 9:\tBest: 4.00\tAverage: 3.00\n",
      "Iteration 10:\tBest: 4.00\tAverage: 3.00\n",
      "Iteration 11:\tBest: 4.00\tAverage: 3.00\n",
      "Iteration 12:\tBest: 4.00\tAverage: 3.00\n",
      "Iteration 13:\tBest: 4.00\tAverage: 3.00\n",
      "Iteration 14:\tBest: 4.00\tAverage: 3.00\n",
      "Iteration 15:\tBest: 4.00\tAverage: 3.00\n",
      "Iteration 16:\tBest: 4.00\tAverage: 3.00\n",
      "Iteration 17:\tBest: 4.00\tAverage: 3.00\n",
      "Iteration 18:\tBest: 5.00\tAverage: 3.00\n"
     ]
    }
   ],
   "source": [
    "from monkeys.search import pre_evaluate, assertions_as_score, optimize\n",
    "\n",
    "@params(ast.Module)\n",
    "@pre_evaluate\n",
    "@assertions_as_score\n",
    "def score(module):\n",
    "    exec(compile(module, '<string>', 'exec'))\n",
    "    assert my_abs(0) == 0\n",
    "    assert my_abs(1) == 1\n",
    "    assert my_abs(-1) == 1\n",
    "    assert my_abs(3) == 3\n",
    "    assert my_abs(-3) == 3\n",
    "\n",
    "best_abs = optimize(score, iterations=25)"
   ]
  },
  {
   "cell_type": "markdown",
   "metadata": {},
   "source": [
    "As we can see, `optimize` can tell at the end of 18 iterations that we've reached our maximum score, and stops the optimization process early. To show the final source code result, we'll use the third-party library `astor`:"
   ]
  },
  {
   "cell_type": "code",
   "execution_count": 11,
   "metadata": {
    "collapsed": false
   },
   "outputs": [
    {
     "name": "stdout",
     "output_type": "stream",
     "text": [
      "def my_abs(x):\n",
      "    return int((x if (x >= ((- x) * 1)) else (- x)))\n"
     ]
    }
   ],
   "source": [
    "import astor\n",
    "print astor.to_source(best_abs.evaluate())"
   ]
  }
 ],
 "metadata": {
  "anaconda-cloud": {},
  "kernelspec": {
   "display_name": "Python [conda root]",
   "language": "python",
   "name": "conda-root-py"
  },
  "language_info": {
   "codemirror_mode": {
    "name": "ipython",
    "version": 2
   },
   "file_extension": ".py",
   "mimetype": "text/x-python",
   "name": "python",
   "nbconvert_exporter": "python",
   "pygments_lexer": "ipython2",
   "version": "2.7.12"
  }
 },
 "nbformat": 4,
 "nbformat_minor": 2
}
